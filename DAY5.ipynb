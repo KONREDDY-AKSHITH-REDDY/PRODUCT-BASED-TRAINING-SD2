{
  "nbformat": 4,
  "nbformat_minor": 0,
  "metadata": {
    "colab": {
      "provenance": [],
      "authorship_tag": "ABX9TyPnB8ZzYr6ymz/kt4gmuUEQ",
      "include_colab_link": true
    },
    "kernelspec": {
      "name": "python3",
      "display_name": "Python 3"
    },
    "language_info": {
      "name": "python"
    }
  },
  "cells": [
    {
      "cell_type": "markdown",
      "metadata": {
        "id": "view-in-github",
        "colab_type": "text"
      },
      "source": [
        "<a href=\"https://colab.research.google.com/github/KONREDDY-AKSHITH-REDDY/PRODUCT-BASED-TRAINING-SD2/blob/main/DAY5.ipynb\" target=\"_parent\"><img src=\"https://colab.research.google.com/assets/colab-badge.svg\" alt=\"Open In Colab\"/></a>"
      ]
    },
    {
      "cell_type": "code",
      "execution_count": null,
      "metadata": {
        "id": "xxgyES5gyHO-"
      },
      "outputs": [],
      "source": [
        "import random as r\n",
        "def isl(l,i,j,v,i1,j1):\n",
        "    if j==1 and v[i1][j1]==0:\n",
        "        v[i1][j1]=1\n",
        "        if i1<len(l)-1:\n",
        "            isl(l,l[i1+1],l[i1+1][j1],v,i1+1,j1)\n",
        "        if j1<len(l)-1:\n",
        "            isl(l,i,l[i1][j1+1],v,i1,j1+1)\n",
        "        if i1>0:\n",
        "            isl(l,l[i1-1],l[i1-1][j1],v,i1-1,j1)\n",
        "        if j1>0:\n",
        "            isl(l,i,l[i1][j1-1],v,i1,j1-1)\n",
        "\n",
        "def check(l,i,v,i1):\n",
        "    t=0\n",
        "    j1=0\n",
        "    for j in i:\n",
        "        if j==1 and v[i1][j1]==0:\n",
        "            isl(l,i,j,v,i1,j1)\n",
        "            t+=1\n",
        "        j1+=1\n",
        "    return t\n",
        "\n",
        "l=[[],[],[],[],[]]\n",
        "v=[[],[],[],[],[]]\n",
        "for i in range(len(l)):\n",
        "    for j in range(len(l)):\n",
        "        l[i].append(r.randint(0,1))\n",
        "        v[i].append(0)\n",
        "c=0\n",
        "for i in l:\n",
        "    c+=check(l,i,v,l.index(i))\n",
        "    print(i)\n",
        "print(\"NO.OF ISLANDS ARE\",c)\n"
      ]
    }
  ]
}