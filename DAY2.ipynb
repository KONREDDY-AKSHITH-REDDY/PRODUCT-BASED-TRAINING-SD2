{
  "nbformat": 4,
  "nbformat_minor": 0,
  "metadata": {
    "colab": {
      "provenance": [],
      "authorship_tag": "ABX9TyOIGr0sli8BMDcH08KnoMGk",
      "include_colab_link": true
    },
    "kernelspec": {
      "name": "python3",
      "display_name": "Python 3"
    },
    "language_info": {
      "name": "python"
    }
  },
  "cells": [
    {
      "cell_type": "markdown",
      "metadata": {
        "id": "view-in-github",
        "colab_type": "text"
      },
      "source": [
        "<a href=\"https://colab.research.google.com/github/KONREDDY-AKSHITH-REDDY/PRODUCT-BASED-TRAINING-SD2/blob/main/DAY2.ipynb\" target=\"_parent\"><img src=\"https://colab.research.google.com/assets/colab-badge.svg\" alt=\"Open In Colab\"/></a>"
      ]
    },
    {
      "cell_type": "code",
      "execution_count": null,
      "metadata": {
        "id": "0BOoUt0uhIS2",
        "colab": {
          "base_uri": "https://localhost:8080/"
        },
        "outputId": "572431d8-e44c-4469-8ea6-7e123827b6b5"
      },
      "outputs": [
        {
          "output_type": "stream",
          "name": "stdout",
          "text": [
            "Enter no.of lemons12\n",
            "('lemons required are', 9)\n"
          ]
        }
      ],
      "source": [
        "#LEMONS\n",
        "def check(a):\n",
        "    for c in a:\n",
        "        if c in ('a','b','c','d','e','f','g','h','i','j','k','l','m','n','o','p','q','r','s','t','u','v','w','x','y','z'):\n",
        "            return 0\n",
        "\n",
        "a=input(\"Enter no.of lemons\")\n",
        "if check(a)==0:\n",
        "   print (\"Invalid string input\")\n",
        "else:\n",
        "    a=int(a)\n",
        "    print(\"INVALID INPUT \" if a<-1 else \"no.of lemons are satisfied\" if a==21 else (\"lemons required are\",21-a) if a<21 else (\"lemons are more\",a-21) )\n"
      ]
    },
    {
      "cell_type": "code",
      "source": [
        "import random as ra\n",
        "l=[[],[],[],[]]\n",
        "a=0\n",
        "r=[]\n",
        "r1=[]\n",
        "c1=[]\n",
        "c=[]\n",
        "dl=[]\n",
        "dr=[]\n",
        "dl1=[]\n",
        "dr1=[]\n",
        "for i in range(4):\n",
        "    r.append(0)\n",
        "    c.append(0)\n",
        "    r1.append(0)\n",
        "    c1.append(0)\n",
        "    dr.append(0)\n",
        "    dl.append(0)\n",
        "    dr1.append(0)\n",
        "    dl1.append(0)\n",
        "    for j in range(4):\n",
        "        a=ra.randint(0,1)\n",
        "        l[i].append(a)\n",
        "print(l)\n",
        "n=3\n",
        "for i in range(4):\n",
        "    if l[i][i]==0:\n",
        "        dr[i]+=1\n",
        "    else:\n",
        "        dr1[i]==1\n",
        "    if l[n][n]==0:\n",
        "        dl[i]+=1\n",
        "    else:\n",
        "        dl1[i]+=1\n",
        "    n-=1\n",
        "    for j in range(4):\n",
        "\n",
        "        if l[i][j]==1:\n",
        "            r[i]+=1\n",
        "        else:\n",
        "            r1[i]+=1\n",
        "        if l[j][i]==1:\n",
        "            c[i]+=1\n",
        "        else:\n",
        "            c1[i]+=1\n",
        "print(r,c,\"\\n\",r1,c1,\"\\n\",dr,dl,\"\\n\",dr1,dl1)\n",
        "n=0\n",
        "for i in c:\n",
        "    if i==4:\n",
        "        n+=1\n",
        "print(\"no.of cols in 0's:\",n)\n",
        "n=0\n",
        "for i in d:\n",
        "    if i==4:\n",
        "        n+=1\n",
        "\n"
      ],
      "metadata": {
        "colab": {
          "base_uri": "https://localhost:8080/"
        },
        "id": "Y9Ed_6bXhpwc",
        "outputId": "d4d4cec6-c69b-4288-8027-152ba28834ab"
      },
      "execution_count": null,
      "outputs": [
        {
          "output_type": "stream",
          "name": "stdout",
          "text": [
            "[[1, 0, 1, 1], [0, 1, 0, 0], [0, 1, 1, 1], [0, 1, 1, 1]]\n",
            "[3, 1, 3, 3] [1, 3, 3, 3] \n",
            " [1, 3, 1, 1] [3, 1, 1, 1] \n",
            " [0, 0, 0, 0] [0, 0, 0, 0] \n",
            " [0, 0, 0, 0] [1, 1, 1, 1]\n"
          ]
        }
      ]
    },
    {
      "cell_type": "code",
      "source": [
        " #SPACES AND SYMBOLS NOT EFFECTED WHILE REVERSING\n",
        "p=list(input(\"Enter a string:\"));i=[];sy=[];r1=[];r=\"\";c=0;l=len(p)\n",
        "for j in range(l):\n",
        "    if p[j] not in ('a','b','c','d','e','f','g','h','i','j','k','l','m','n','o','p','q','r','s','t','u','v','w','x','y','z'):\n",
        "        i.append(j);sy.append(p[j])\n",
        "p.reverse()\n",
        "for j in p:\n",
        "    if j not in ('a','b','c','d','e','f','g','h','i','j','k','l','m','n','o','p','q','r','s','t','u','v','w','x','y','z'):\n",
        "        continue\n",
        "    else:\n",
        "        r1.append(j)\n",
        "for j in i:\n",
        "    r1.insert(j,sy[c]);c+=1\n",
        "for j in r1:\n",
        "    r+=j\n",
        "print(r)\n",
        "\n"
      ],
      "metadata": {
        "id": "cs57uVXXl8eB",
        "colab": {
          "base_uri": "https://localhost:8080/"
        },
        "outputId": "9d211054-9b7d-430c-f7ff-59e1ce83381c"
      },
      "execution_count": null,
      "outputs": [
        {
          "output_type": "stream",
          "name": "stdout",
          "text": [
            "Enter a string:hello, how is your family?!\n",
            "ylima, fru oy siwo holleh?!\n"
          ]
        }
      ]
    },
    {
      "cell_type": "code",
      "source": [
        "#PERFECT SQUARE ROOT USING ORDER OF ROOT N\n",
        "def sq(n):\n",
        "    if(n<=100):\n",
        "        i=1;j=1\n",
        "        while(j<=n):\n",
        "            if j==n:\n",
        "                print(j,i-1)\n",
        "            j=i*i\n",
        "            i+=1\n",
        "        sq(n+1)\n",
        "sq(40)\n"
      ],
      "metadata": {
        "id": "Q7bHReO5Wg3u"
      },
      "execution_count": null,
      "outputs": []
    },
    {
      "cell_type": "code",
      "source": [],
      "metadata": {
        "id": "PFtVL9HgWwz9"
      },
      "execution_count": null,
      "outputs": []
    }
  ]
}