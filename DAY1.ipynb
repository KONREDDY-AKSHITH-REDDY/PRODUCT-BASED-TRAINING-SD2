{
  "nbformat": 4,
  "nbformat_minor": 0,
  "metadata": {
    "colab": {
      "provenance": [],
      "include_colab_link": true
    },
    "kernelspec": {
      "name": "python3",
      "display_name": "Python 3"
    },
    "language_info": {
      "name": "python"
    }
  },
  "cells": [
    {
      "cell_type": "markdown",
      "metadata": {
        "id": "view-in-github",
        "colab_type": "text"
      },
      "source": [
        "<a href=\"https://colab.research.google.com/github/KONREDDY-AKSHITH-REDDY/PRODUCT-BASED-TRAINING-SD2/blob/main/DAY1.ipynb\" target=\"_parent\"><img src=\"https://colab.research.google.com/assets/colab-badge.svg\" alt=\"Open In Colab\"/></a>"
      ]
    },
    {
      "cell_type": "code",
      "execution_count": null,
      "metadata": {
        "colab": {
          "base_uri": "https://localhost:8080/"
        },
        "id": "hSLHXESd2211",
        "outputId": "d29a4b3c-8c47-460b-8da1-1f687eb76109"
      },
      "outputs": [
        {
          "output_type": "stream",
          "name": "stdout",
          "text": [
            "default 1\n"
          ]
        }
      ],
      "source": [
        "#DEFAULT CONSTRUCTOR\n",
        "class Siva:\n",
        "    def __init__(a,b):\n",
        "        print(\"default\")\n",
        "    def __init__(a,b):\n",
        "        print(\"default 1\")\n",
        "o1=Siva(1)\n"
      ]
    },
    {
      "cell_type": "code",
      "source": [
        "#REVERSE STRING WITH NOT EFFECTING THE INDEX OF THE SPACES\n",
        "s=input(\"Enter the string here:\")\n",
        "l=len(s)\n",
        "p=list(s)\n",
        "i=[]\n",
        "r=\"\"\n",
        "for j in range(l):\n",
        "    if p[j]==\" \":\n",
        "        i.append(j)\n",
        "p.reverse()\n",
        "for j in p:\n",
        "    if j==\" \":\n",
        "        continue\n",
        "    else:\n",
        "        r+=j\n",
        "print(i)\n",
        "for j in i:\n",
        "    r=r[:j]+\" \"+r[j:]\n",
        "print(r)\n"
      ],
      "metadata": {
        "id": "ZDat-okg3rWE"
      },
      "execution_count": null,
      "outputs": []
    },
    {
      "cell_type": "code",
      "source": [
        "class Magicalprime:\n",
        "    def number(self,n):\n",
        "        f=self.prime(n)\n",
        "        n1=self.rev(n)\n",
        "        f1=self.prime(n1)\n",
        "        if f==0 and f1==0:\n",
        "            print(\"MAGICAL PRIME NUMBER\")\n",
        "        else:\n",
        "            print(\"NOT A MAGICAL PRIME NUMBER\")\n",
        "    def rev(self,n):\n",
        "        s=0\n",
        "        while n!=0:\n",
        "            s=s*10+n%10\n",
        "            n//=10\n",
        "        return s\n",
        "    def prime(self,n):\n",
        "        c=0\n",
        "        for i in range(2,n):\n",
        "            if n%2==0:\n",
        "                return 1\n",
        "        return 0\n",
        "\n",
        "class Neonnumber:\n",
        "    def neon(self,n):\n",
        "        n1=n*n\n",
        "        self.check(n,n1)\n",
        "\n",
        "    def check(self,n,n1):\n",
        "        if(n1<10):\n",
        "            if n==n1:\n",
        "                print(\"NEON NUMBER\")\n",
        "            else:\n",
        "                print(\"NOT A NEON NUMBER\")\n",
        "        else:\n",
        "            self.su(n,n1)\n",
        "    def su(self,n,n1):\n",
        "        r=n1\n",
        "        s=0\n",
        "        while(r>0):\n",
        "            s+=r%10\n",
        "            r//=10\n",
        "        self.check(n,s)\n",
        "n=int(input(\"Enter a number:\"))\n",
        "m=Magicalprime()\n",
        "m.number(n)\n",
        "v=Neonnumber()\n",
        "v.neon(n)\n"
      ],
      "metadata": {
        "colab": {
          "base_uri": "https://localhost:8080/"
        },
        "id": "c0GJMIGJ3PrT",
        "outputId": "f2d7f98e-33f3-4fd5-ed71-b569f9914583"
      },
      "execution_count": null,
      "outputs": [
        {
          "output_type": "stream",
          "name": "stdout",
          "text": [
            "Enter a number:17\n",
            "MAGICAL PRIME NUMBER\n",
            "NOT A NEON NUMBER\n"
          ]
        }
      ]
    },
    {
      "cell_type": "code",
      "source": [
        "#MULTIPLE INHRITANCE\n",
        "class Siva:\n",
        "    def helllo(abc):\n",
        "        print(\"HELLO 1\")\n",
        "class Baby1(Siva):\n",
        "    def hello(abc):\n",
        "        print(\"HELLO 2\")\n",
        "class Gbaby(Baby1):\n",
        "    def hell(abc):\n",
        "        print(\"HELLO 3\")\n",
        "class Baby2(Siva):\n",
        "    def hel(abc):\n",
        "        print(\"HELLO 4\")\n",
        "o=Gbaby()\n",
        "o.helllo()\n",
        "o.hello()\n",
        "o.hell()\n",
        "o1=Baby2()\n",
        "o1.helllo()\n",
        "o1.hel()\n"
      ],
      "metadata": {
        "id": "37prN8JT3W_d"
      },
      "execution_count": null,
      "outputs": []
    }
  ]
}