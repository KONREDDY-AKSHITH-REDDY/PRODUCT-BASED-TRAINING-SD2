{
  "nbformat": 4,
  "nbformat_minor": 0,
  "metadata": {
    "colab": {
      "provenance": [],
      "authorship_tag": "ABX9TyP/ocA/5po5mJYmWd+GMk2K",
      "include_colab_link": true
    },
    "kernelspec": {
      "name": "python3",
      "display_name": "Python 3"
    },
    "language_info": {
      "name": "python"
    }
  },
  "cells": [
    {
      "cell_type": "markdown",
      "metadata": {
        "id": "view-in-github",
        "colab_type": "text"
      },
      "source": [
        "<a href=\"https://colab.research.google.com/github/KONREDDY-AKSHITH-REDDY/PRODUCT-BASED-TRAINING-SD2/blob/main/DAY4.ipynb\" target=\"_parent\"><img src=\"https://colab.research.google.com/assets/colab-badge.svg\" alt=\"Open In Colab\"/></a>"
      ]
    },
    {
      "cell_type": "code",
      "execution_count": 1,
      "metadata": {
        "colab": {
          "base_uri": "https://localhost:8080/"
        },
        "id": "iDSyr7_m3Mod",
        "outputId": "a85b8f42-b30a-4615-c482-a1d17d0ffb75"
      },
      "outputs": [
        {
          "output_type": "stream",
          "name": "stdout",
          "text": [
            "Enter a string:z\n",
            "26\n"
          ]
        }
      ],
      "source": [
        "#ALPHABET NUMBER IN THE LIST OF ALPHABETS\n",
        "\n",
        "print(ord(input(\"Enter a string:\").lower())-96)"
      ]
    },
    {
      "cell_type": "code",
      "source": [
        "#ADD KEY TO THE ASCII'S AND PRINT ALPHABET\n",
        "s=input();s1=s;c=0;n=int(input());s=s.lower()\n",
        "if(ord(s)>96):\n",
        "    if (ord(s)+n)>122:\n",
        "        c=(ord(s)+n)-122\n",
        "        if c>26:\n",
        "            c%=26\n",
        "        if ord(s1)>96:\n",
        "            print(chr(96+c))\n",
        "        else:\n",
        "            print(chr(96+c).upper())\n",
        "    else:\n",
        "        print(chr(ord(s1)+n))\n"
      ],
      "metadata": {
        "colab": {
          "base_uri": "https://localhost:8080/"
        },
        "id": "XTbK5x5d3fXz",
        "outputId": "0ae40959-e8fd-41b3-87c1-373e16dc084a"
      },
      "execution_count": 2,
      "outputs": [
        {
          "output_type": "stream",
          "name": "stdout",
          "text": [
            "a\n",
            "28\n",
            "c\n"
          ]
        }
      ]
    },
    {
      "cell_type": "code",
      "source": [
        "#STAR\n",
        "n=int(input())\n",
        "for i in range(n):\n",
        "    print(\"* \"*(i+1))\n"
      ],
      "metadata": {
        "colab": {
          "base_uri": "https://localhost:8080/"
        },
        "id": "fo6v2-6Q3xOr",
        "outputId": "a4ecd134-2cb3-42ea-b25a-b9af3c252f36"
      },
      "execution_count": 3,
      "outputs": [
        {
          "output_type": "stream",
          "name": "stdout",
          "text": [
            "4\n",
            "* \n",
            "* * \n",
            "* * * \n",
            "* * * * \n"
          ]
        }
      ]
    },
    {
      "cell_type": "code",
      "source": [
        "#DIAMOND STAR\n",
        "n=int(input())\n",
        "for i in range(n):\n",
        "    print((n-i)*\" \"+(i+1)*\"* \")\n",
        "for i in range(n):\n",
        "    print((i+2)*\" \"+(n-i-1)*\"* \")\n"
      ],
      "metadata": {
        "colab": {
          "base_uri": "https://localhost:8080/"
        },
        "id": "lYN1XUZT37by",
        "outputId": "5a4dfdf9-d6ad-4996-dbb4-1cbeac89f8c7"
      },
      "execution_count": 4,
      "outputs": [
        {
          "output_type": "stream",
          "name": "stdout",
          "text": [
            "4\n",
            "    * \n",
            "   * * \n",
            "  * * * \n",
            " * * * * \n",
            "  * * * \n",
            "   * * \n",
            "    * \n",
            "     \n"
          ]
        }
      ]
    },
    {
      "cell_type": "code",
      "source": [
        "#PRINT I NO.OF I'S\n",
        "n=int(input())\n",
        "s=0\n",
        "for i in range(n):\n",
        "    print((str(i+1)+(\" \"))*(i+1))"
      ],
      "metadata": {
        "colab": {
          "base_uri": "https://localhost:8080/"
        },
        "id": "CXQdfIO_4Mqz",
        "outputId": "36eb4817-4924-41da-b41b-ef98d5e5fe38"
      },
      "execution_count": 6,
      "outputs": [
        {
          "output_type": "stream",
          "name": "stdout",
          "text": [
            "4\n",
            "1 \n",
            "2 2 \n",
            "3 3 3 \n",
            "4 4 4 4 \n"
          ]
        }
      ]
    },
    {
      "cell_type": "code",
      "source": [
        "#PRINT I NO.OF I'S WITH ONLY MATHS\n",
        "n=int(input());c=1\n",
        "#METHOD 1:\n",
        "for i in range(1,n+1):\n",
        "    print(c*i);c+=10**(i)\n",
        "#METHOD 2:\n",
        "for i in range(1,n+1):\n",
        "    print(((10**i)//9)*i)\n"
      ],
      "metadata": {
        "colab": {
          "base_uri": "https://localhost:8080/"
        },
        "id": "ZyHojOkx4e5A",
        "outputId": "3f34a681-6dec-4158-8280-738f5fccf3d9"
      },
      "execution_count": 7,
      "outputs": [
        {
          "output_type": "stream",
          "name": "stdout",
          "text": [
            "4\n",
            "1\n",
            "22\n",
            "333\n",
            "4444\n",
            "1\n",
            "22\n",
            "333\n",
            "4444\n"
          ]
        }
      ]
    }
  ]
}